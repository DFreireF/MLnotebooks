{
  "nbformat": 4,
  "nbformat_minor": 0,
  "metadata": {
    "colab": {
      "provenance": []
    },
    "kernelspec": {
      "name": "python3",
      "display_name": "Python 3"
    },
    "language_info": {
      "name": "python"
    }
  },
  "cells": [
    {
      "cell_type": "markdown",
      "source": [
        "# TensorFlow gradients"
      ],
      "metadata": {
        "id": "Lw6Syb4dDgkz"
      }
    },
    {
      "cell_type": "markdown",
      "source": [
        "This notebook demonstrates how to compute gradients with TensorFlow.\n",
        "\n",
        "Please note that some techniques you are about to see below (e.g. `tf.function` and `tf.GradientTape`) have not been fully introduced yet, but certainly will be later on in this tutorial."
      ],
      "metadata": {
        "id": "5jWrWmPJHROT"
      }
    },
    {
      "cell_type": "code",
      "source": [
        "# imports\n",
        "import tensorflow as tf"
      ],
      "metadata": {
        "id": "OBCr-kCTDmEe"
      },
      "execution_count": null,
      "outputs": []
    },
    {
      "cell_type": "markdown",
      "source": [
        "In the next cell, we are going to build the following graph:\n",
        "\n",
        "![](https://mermaid.ink/img/pako:eNo9jz0OwjAMRq8SeaUd6JiBCTYmWL1YjUMrNUkVEolSVeIsHI2T4Ko_nj6_70mWR6iDYdDwiNQ36npDr2ReqizLkwr9cUQ4IEwLHna87BI2Uon4-3x39T0Xa7XJ1SJb9FCA4-ioNXJ6nHuE1LBjBC3RsKXcJQT0k6i5N5T4YtoUImhL3ZMLoJzCffA16BQzb9K5JfnErdb0BwKERE8)\n",
        "\n",
        "We define all computations in a separate function that returns both the function result itself and gradients of interest for further inspection / printing. The inputs to this function are the values of the nodes `x`, `y` and `z`.\n",
        "\n",
        "It is your task to define the operations and to derive the partial gradients using [`tf.gradients`](https://www.tensorflow.org/api_docs/python/tf/gradients).\n",
        "\n",
        "*Side note*: The function is decorated by [`tf.function`](https://www.tensorflow.org/api_docs/python/tf/function) which - at least for now - defines the scope in which gradients are tracked and accessible.\n"
      ],
      "metadata": {
        "id": "q4RfR8n_UuRc"
      }
    },
    {
      "cell_type": "code",
      "source": [
        "@tf.function\n",
        "def func(x, y, z):\n",
        "    # all input tensors are given as arguments\n",
        "\n",
        "    # define operations\n",
        "    q = x + y\n",
        "    f = q * z\n",
        "\n",
        "    # return multiple values in a 2-tuple,\n",
        "    # e.g. function results and gradients\n",
        "    return f, tf.gradients(f, [x, y, z])"
      ],
      "metadata": {
        "id": "yJc9uI1yDnV4"
      },
      "execution_count": null,
      "outputs": []
    },
    {
      "cell_type": "markdown",
      "source": [
        "Now we call the function with example values and see if the gradients make sense. Please note that, instead of passing normal floats, we are using `tf.constant` tensors."
      ],
      "metadata": {
        "id": "qgHBULyYVqv8"
      }
    },
    {
      "cell_type": "code",
      "source": [
        "f, gradients = func(\n",
        "    x=tf.constant(-2.0),\n",
        "    y=tf.constant(5.0),\n",
        "    z=tf.constant(-4.0),\n",
        ")"
      ],
      "metadata": {
        "id": "uq73Vrv3YQib"
      },
      "execution_count": null,
      "outputs": []
    },
    {
      "cell_type": "code",
      "source": [
        "# check gradients\n",
        "print(gradients)"
      ],
      "metadata": {
        "colab": {
          "base_uri": "https://localhost:8080/"
        },
        "id": "Go-MLDEmYelc",
        "outputId": "3df787b7-21fd-45ee-b79d-c259ce0aee70"
      },
      "execution_count": null,
      "outputs": [
        {
          "output_type": "stream",
          "name": "stdout",
          "text": [
            "[<tf.Tensor: shape=(), dtype=float32, numpy=-4.0>, <tf.Tensor: shape=(), dtype=float32, numpy=-4.0>, <tf.Tensor: shape=(), dtype=float32, numpy=3.0>]\n"
          ]
        }
      ]
    },
    {
      "cell_type": "markdown",
      "source": [
        "`gradients` is a list of tensors. You can call `tensor.numpy()` to access the numeric value as a numpy array.\n",
        "\n",
        "Do they match your expectation?"
      ],
      "metadata": {
        "id": "rBuQDFJpY6PO"
      }
    },
    {
      "cell_type": "markdown",
      "source": [
        "## Now you\n",
        "\n",
        "Define some more complex graphs and compute their gradients.\n",
        "\n",
        "A good starting point is the collection of [math operations](https://www.tensorflow.org/api_docs/python/tf/math).\n",
        "\n",
        "*Side note*: For very complex graphs it's sometimes useful to visualize them. The graph above was created with the [mermaid live editor](https://mermaid.live/edit#pako:eNo9jz0OwjAMRq8SeaUd6JiBCTYmWL1EjUsjkR9FidRSVeIsHI2T4Cqknj6_70mWF-i9JpDwiCqM4npDJ3gm0bbtSfhwXBAOCGvB847LzqGSjsXv-7Orr634V1XuijyggwYsRauM5tPL1iOkkSwhSI6aBpWfCQHdymoOWiW6aJN8BJlipgZUTv4-u77uxTkbxY_YAtcffe9DuQ)."
      ],
      "metadata": {
        "id": "vSAYdGxJZXT3"
      }
    },
    {
      "cell_type": "code",
      "source": [
        "# ..."
      ],
      "metadata": {
        "id": "h9mkSjlHaBFF"
      },
      "execution_count": null,
      "outputs": []
    }
  ]
}