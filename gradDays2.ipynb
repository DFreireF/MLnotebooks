{
  "cells": [
    {
      "cell_type": "markdown",
      "metadata": {
        "id": "v7Kt_z8Nsz7G"
      },
      "source": [
        "# Generating LHC data with Flows"
      ]
    },
    {
      "cell_type": "markdown",
      "metadata": {
        "id": "Ve4fPV-3xFBj"
      },
      "source": [
        "Today we will use Invertible Neural Networks (INNs) to generate LHC data.  They are a type of normalising flow implemented in FrEIA [[1]](https://github.com/vislearn/FrEIA)."
      ]
    },
    {
      "cell_type": "markdown",
      "metadata": {
        "id": "7MpjbPDUxFBo"
      },
      "source": [
        "Background:\n",
        "- Simulations for LHC physics is a major computational task at the experiment, and will become more computationally intensive in the coming years, so if ML techniques can speed up some aspects of this then it would be very useful\n",
        "- As a proof of concept, we will show how a normalising flow, specifically an Invertible Neural Network (INN), can be optimised to generate events simulated by traditional high energy physics simulation software\n",
        "- The process we are studying is Drell-Yan: $pp\\rightarrow Z\\rightarrow \\mu\\mu$\n",
        "- Naively, the dimension of this phase space is 8D, the 4 momentum of the two final state particles\n",
        "- The generative network samples random noise from a unit Normal distribution, passes it through an invertible network to produce an 8D output\n",
        "- **There are detailed notes on this in your lecture notes, please read them!**"
      ]
    },
    {
      "cell_type": "markdown",
      "metadata": {
        "id": "HmJ0GRjRxFBp"
      },
      "source": [
        "Interesting papers:\n",
        "- Invertible Networks or Partons to Detector and Back Again\n",
        "    - Bellagente et al\n",
        "    - https://arxiv.org/abs/2006.06685\n",
        "- Generative Networks for Precision Enthusiasts\n",
        "    - Butter et al\n",
        "    - https://arxiv.org/abs/2110.13632"
      ]
    },
    {
      "cell_type": "markdown",
      "metadata": {
        "id": "a-GOVaTsxFBp"
      },
      "source": [
        "Outline:\n",
        "- Imports and plotting set-up\n",
        "- Study the data\n",
        "- Datasets and dataloaders\n",
        "- Building and optimising the INN\n",
        "- Study the results - let's generate some events!\n",
        "- Removing redundant degrees of freedom\n",
        "- Optimising the INN on the reduced data\n",
        "- Study the new results\n",
        "- Concluding remarks"
      ]
    },
    {
      "cell_type": "markdown",
      "metadata": {
        "id": "SO0R2q4OxFBp"
      },
      "source": [
        "The documentation can be found here:\n",
        "\n",
        "https://github.com/VLL-HD/FrEIA"
      ]
    },
    {
      "cell_type": "markdown",
      "source": [
        "Get the data and install FrEIA:"
      ],
      "metadata": {
        "id": "FrbTHadNuOBE"
      }
    },
    {
      "cell_type": "code",
      "execution_count": null,
      "metadata": {
        "id": "P9PBpQFmxFBp"
      },
      "outputs": [],
      "source": [
        "!wget -O tutorial-11-data.zip https://www.dropbox.com/s/n5e66w91rgmbqz2/dlpp-data.zip?dl=0&file_subpath=%2Fdlpp-data%2Ftutorial-11-data\n",
        "!unzip \"tutorial-11-data.zip\"\n",
        "!mkdir tutorial-11-data\n",
        "!mv dlpp-data/tutorial-11-data/* tutorial-11-data/.\n",
        "!rm -r __MACOSX/\n",
        "!rm -r dlpp-data/\n",
        "!ls\n",
        "!pip install FrEIA"
      ]
    },
    {
      "cell_type": "markdown",
      "metadata": {
        "id": "MWxmn8htxFBp"
      },
      "source": [
        "Example code for how to define an INN, how to write it's loss function, and how to sample from it:"
      ]
    },
    {
      "cell_type": "raw",
      "metadata": {
        "id": "YWBYSCYhxFBp"
      },
      "source": [
        ".\n",
        "```\n",
        "# FrEIA imports\n",
        "import FrEIA.framework as Ff\n",
        "import FrEIA.modules as Fm\n",
        "\n",
        "BATCHSIZE = 100\n",
        "N_DIM = 8\n",
        "\n",
        "# we define a subnet for use inside an affine coupling block for more detailed information see the full tutorial\n",
        "def subnet_fc(dims_in, dims_out):\n",
        "    return nn.Sequential(nn.Linear(dims_in, 128), nn.ReLU(),\n",
        "                         nn.Linear(128,  dims_out))\n",
        "\n",
        "# a simple chain of operations is collected by ReversibleSequential\n",
        "inn = Ff.SequenceINN(N_DIM)\n",
        "for k in range(8):\n",
        "    inn.append(Fm.AllInOneBlock, subnet_constructor=subnet_fc, permute_soft=True)\n",
        "\n",
        "# pass to INN and get transformed variable z and log Jacobian determinant\n",
        "z, log_jac_det = inn(x)\n",
        "\n",
        "# calculate the negative log-likelihood of the model with a standard normal prior\n",
        "loss = 0.5*torch.sum(z**2, 1) - log_jac_det\n",
        "loss = loss.mean() / N_DIM\n",
        "\n",
        "# sample from the INN by sampling from a standard normal and transforming it in the reverse direction\n",
        "z = torch.randn(BATCHSIZE, N_DIM)\n",
        "samples, _ = inn(z, rev=True)\n",
        "```"
      ]
    },
    {
      "cell_type": "markdown",
      "metadata": {
        "id": "QSfSA5JKsz7d"
      },
      "source": [
        "### Imports"
      ]
    },
    {
      "cell_type": "code",
      "execution_count": null,
      "metadata": {
        "id": "2KwC4hHZsz7f"
      },
      "outputs": [],
      "source": [
        "import os\n",
        "import sys\n",
        "import random\n",
        "import time\n",
        "import numpy as np\n",
        "import torch\n",
        "from torch.utils.data import TensorDataset\n",
        "from torch.utils.data import DataLoader\n",
        "from torch import nn\n",
        "from torch.nn import functional as F\n",
        "from torch.nn import Sequential, Linear, ReLU\n",
        "from torch.nn.utils import spectral_norm\n",
        "import matplotlib.pyplot as plt\n",
        "\n",
        "# FrEIA imports\n",
        "import FrEIA.framework as Ff\n",
        "import FrEIA.modules as Fm"
      ]
    },
    {
      "cell_type": "markdown",
      "metadata": {
        "id": "UkKm5fwNsz7j"
      },
      "source": [
        "## Loading the data"
      ]
    },
    {
      "cell_type": "markdown",
      "metadata": {
        "id": "ReOGNPeBsz7k"
      },
      "source": [
        "We can load the data from here:"
      ]
    },
    {
      "cell_type": "code",
      "execution_count": null,
      "metadata": {
        "id": "ZTRWlRmwsz7l"
      },
      "outputs": [],
      "source": [
        "dy_trn_data = np.load('tutorial-11-data/dy_trn_data.npy')\n",
        "dy_val_data = np.load('tutorial-11-data/dy_val_data.npy')\n",
        "dy_tst_data = np.load('tutorial-11-data/dy_tst_data.npy')"
      ]
    },
    {
      "cell_type": "code",
      "execution_count": null,
      "metadata": {
        "colab": {
          "base_uri": "https://localhost:8080/"
        },
        "id": "77Zwe37usz7n",
        "outputId": "bd3104ae-35b6-49f7-8dc0-bbe88f3723da"
      },
      "outputs": [
        {
          "output_type": "execute_result",
          "data": {
            "text/plain": [
              "((1384081, 8), (296588, 8), (296588, 8))"
            ]
          },
          "metadata": {},
          "execution_count": 4
        }
      ],
      "source": [
        "dy_trn_data.shape, dy_val_data.shape, dy_tst_data.shape"
      ]
    },
    {
      "cell_type": "markdown",
      "metadata": {
        "id": "IyDvKh7Ssz7r"
      },
      "source": [
        "Each element of the data has 8 entries, corresponding to the 4-momenta of each muon in the process.\n",
        "\n",
        "Each entry has the form $[E_1, p_{x,1}, p_{y,1}, p_{z,1}, E_2, p_{x,2}, p_{y,2}, p_{z,2}]$."
      ]
    },
    {
      "cell_type": "markdown",
      "metadata": {
        "id": "w_jYnHePsz7t"
      },
      "source": [
        "## Study the data"
      ]
    },
    {
      "cell_type": "markdown",
      "metadata": {
        "id": "MQ2BrRVzsz7v"
      },
      "source": [
        "We need to be able to calculate the invariant mass of each event, and the $p_T$ of the event and the jets.\n",
        "\n",
        "Let's write a function for this:"
      ]
    },
    {
      "cell_type": "code",
      "execution_count": null,
      "metadata": {
        "id": "2ca0rU2_sz7w"
      },
      "outputs": [],
      "source": [
        "def get_obs(event):\n",
        "    jet1_4m = event[:,0:4]\n",
        "    jet2_4m = event[:,4:]\n",
        "    evnt_4m = np.sum((jet1_4m,jet2_4m), axis=0)\n",
        "\n",
        "    evnt_im = np.sqrt(np.sum((evnt_4m[:,0]**2, -evnt_4m[:,1]**2, -evnt_4m[:,2]**2, -evnt_4m[:,3]**2 ), axis=0))\n",
        "\n",
        "    evnt_pt = np.sqrt(evnt_4m[:,1]**2 + evnt_4m[:,2]**2)\n",
        "    jet1_pt = np.sqrt(jet1_4m[:,1]**2 + jet1_4m[:,2]**2)\n",
        "    jet2_pt = np.sqrt(jet2_4m[:,1]**2 + jet2_4m[:,2]**2)\n",
        "\n",
        "    return evnt_im, evnt_pt, jet1_pt, jet2_pt"
      ]
    },
    {
      "cell_type": "markdown",
      "metadata": {
        "id": "29soLLzksz7x"
      },
      "source": [
        "Now test it:"
      ]
    },
    {
      "cell_type": "code",
      "execution_count": null,
      "metadata": {
        "colab": {
          "base_uri": "https://localhost:8080/"
        },
        "id": "gOhUYClOsz7y",
        "outputId": "ad88c5be-4d9d-4b39-b825-0d2df0da9bab"
      },
      "outputs": [
        {
          "output_type": "execute_result",
          "data": {
            "text/plain": [
              "(array([90.98955316, 91.3711254 ]),\n",
              " array([0., 0.]),\n",
              " array([44.32344982, 35.10745113]),\n",
              " array([44.32344982, 35.10745113]))"
            ]
          },
          "metadata": {},
          "execution_count": 6
        }
      ],
      "source": [
        "get_obs(dy_trn_data[0:2])"
      ]
    },
    {
      "cell_type": "markdown",
      "metadata": {
        "id": "gngDv_unsz71"
      },
      "source": [
        "The $p_T$ of the events will always be zero here due to the fact that the initial incoming protons have no transverse momentum."
      ]
    },
    {
      "cell_type": "markdown",
      "metadata": {
        "id": "ER7rmXCEsz72"
      },
      "source": [
        "Let's get the observables for the whole dataset:"
      ]
    },
    {
      "cell_type": "code",
      "execution_count": null,
      "metadata": {
        "id": "b6bdTa7Vsz73"
      },
      "outputs": [],
      "source": [
        "trn_evnt_ims, trn_evnt_pts, trn_jet1_pts, trn_jet2_pts = get_obs(dy_trn_data)\n",
        "val_evnt_ims, val_evnt_pts, val_jet1_pts, val_jet2_pts = get_obs(dy_val_data)\n",
        "tst_evnt_ims, tst_evnt_pts, tst_jet1_pts, tst_jet2_pts = get_obs(dy_tst_data)"
      ]
    },
    {
      "cell_type": "code",
      "execution_count": null,
      "metadata": {
        "colab": {
          "base_uri": "https://localhost:8080/"
        },
        "id": "Q90749B2sz74",
        "outputId": "b4007246-7af8-462c-ccb7-548df8324691"
      },
      "outputs": [
        {
          "output_type": "execute_result",
          "data": {
            "text/plain": [
              "(1384081,)"
            ]
          },
          "metadata": {},
          "execution_count": 8
        }
      ],
      "source": [
        "trn_evnt_ims.shape"
      ]
    },
    {
      "cell_type": "markdown",
      "metadata": {
        "id": "uCV15d-usz76"
      },
      "source": [
        "Let's plot the invariant mass of the events:"
      ]
    },
    {
      "cell_type": "code",
      "execution_count": null,
      "metadata": {
        "colab": {
          "base_uri": "https://localhost:8080/",
          "height": 455
        },
        "id": "wctVDOl2sz76",
        "outputId": "92348399-aac3-4ba2-a7b7-d4cd102bcf63"
      },
      "outputs": [
        {
          "output_type": "display_data",
          "data": {
            "text/plain": [
              "<Figure size 640x480 with 1 Axes>"
            ],
            "image/png": "[encoded data removed]"
          },
          "metadata": {}
        }
      ],
      "source": [
        "fig, axs = plt.subplots()\n",
        "\n",
        "axs.hist(trn_evnt_ims, alpha=0.5, density=True, bins=15)\n",
        "\n",
        "axs.set_xlabel(\"$m_{\\mu\\mu}$ (GeV)\")\n",
        "axs.set_ylabel(\"# events\")\n",
        "plt.show()"
      ]
    },
    {
      "cell_type": "markdown",
      "metadata": {
        "id": "LYyC7rYTsz78"
      },
      "source": [
        "Here we see the clear $Z$ mass peak at $\\simeq 90$ GeV."
      ]
    },
    {
      "cell_type": "markdown",
      "metadata": {
        "id": "P3oQqlWksz78"
      },
      "source": [
        "Now let's look at $p_T$ distributions:"
      ]
    },
    {
      "cell_type": "code",
      "execution_count": null,
      "metadata": {
        "colab": {
          "base_uri": "https://localhost:8080/",
          "height": 453
        },
        "id": "pnO4U4OXsz79",
        "outputId": "e80b7214-eaf4-4fb1-ed89-8eb6aa660926"
      },
      "outputs": [
        {
          "output_type": "display_data",
          "data": {
            "text/plain": [
              "<Figure size 640x480 with 1 Axes>"
            ],
            "image/png": "[encoded data removed]"
          },
          "metadata": {}
        }
      ],
      "source": [
        "fig, axs = plt.subplots()\n",
        "\n",
        "axs.hist(trn_jet1_pts, alpha=0.5, density=True, bins=15)\n",
        "axs.hist(trn_jet2_pts, alpha=0.5, density=True, bins=15)\n",
        "\n",
        "axs.set_xlabel(\"$p_{T}$ (GeV)\")\n",
        "axs.set_ylabel(\"# events\")\n",
        "plt.show()"
      ]
    },
    {
      "cell_type": "markdown",
      "metadata": {
        "id": "YEWcAuWisz7_"
      },
      "source": [
        "These distributions are completely overlapping with a peak near $m_{\\mu\\mu}/2$."
      ]
    },
    {
      "cell_type": "markdown",
      "metadata": {
        "id": "-liQski4sz8B"
      },
      "source": [
        "# Datasets and dataloaders"
      ]
    },
    {
      "cell_type": "markdown",
      "metadata": {
        "id": "PqH1qf_3sz8D"
      },
      "source": [
        "Let's normalise the data a little bit by normalizing all the quantities."
      ]
    },
    {
      "cell_type": "code",
      "execution_count": null,
      "metadata": {
        "id": "zuorcrf5sz8I"
      },
      "outputs": [],
      "source": [
        "trn_mean = np.mean(dy_trn_data, axis=0)\n",
        "trn_std = np.std(dy_trn_data, axis=0)\n",
        "dy_trn_data_p = torch.Tensor((dy_trn_data - trn_mean) / trn_std)\n",
        "dy_val_data_p = torch.Tensor((dy_val_data - trn_mean) / trn_std)\n",
        "dy_tst_data_p = torch.Tensor((dy_tst_data - trn_mean) / trn_std)"
      ]
    },
    {
      "cell_type": "code",
      "execution_count": null,
      "metadata": {
        "id": "PK5Mn0Cdsz8J"
      },
      "outputs": [],
      "source": [
        "trn_dataset = TensorDataset(dy_trn_data_p)\n",
        "val_dataset = TensorDataset(dy_val_data_p)\n",
        "tst_dataset = TensorDataset(dy_tst_data_p)"
      ]
    },
    {
      "cell_type": "markdown",
      "metadata": {
        "id": "urzyIW1gsz8L"
      },
      "source": [
        "Using a bigger batch size this time, this helps for generative networks."
      ]
    },
    {
      "cell_type": "code",
      "execution_count": null,
      "metadata": {
        "id": "-ElX7NLksz8M"
      },
      "outputs": [],
      "source": [
        "trn_dataloader = DataLoader(trn_dataset, batch_size=2500, shuffle=True)\n",
        "val_dataloader = DataLoader(val_dataset, batch_size=2500, shuffle=True)\n",
        "tst_dataloader = DataLoader(tst_dataset, batch_size=2500, shuffle=True)"
      ]
    },
    {
      "cell_type": "markdown",
      "metadata": {
        "id": "Obz8MM1nsz8M"
      },
      "source": [
        "## Building and optimising the INN"
      ]
    },
    {
      "cell_type": "markdown",
      "metadata": {
        "id": "0-aOiP29sz8N"
      },
      "source": [
        "First, we set the device."
      ]
    },
    {
      "cell_type": "code",
      "execution_count": null,
      "metadata": {
        "colab": {
          "base_uri": "https://localhost:8080/"
        },
        "id": "loDBPQoTsz8O",
        "outputId": "231f7b6d-c435-4f1e-81c9-c04e9c5f5240"
      },
      "outputs": [
        {
          "output_type": "stream",
          "name": "stdout",
          "text": [
            "Using cuda device\n"
          ]
        }
      ],
      "source": [
        "device = \"cuda\" if torch.cuda.is_available() else \"cpu\"\n",
        "print(f\"Using {device} device\")"
      ]
    },
    {
      "cell_type": "code",
      "execution_count": null,
      "metadata": {
        "id": "p90mThgAsz8Q"
      },
      "outputs": [],
      "source": [
        "def inn_loss(z, ndim, log_jac_det):\n",
        "    l = 0.5*torch.sum(z**2, 1) - log_jac_det\n",
        "    return l.mean() / ndim"
      ]
    },
    {
      "cell_type": "code",
      "execution_count": null,
      "metadata": {
        "id": "cKPI-7Yjsz8S"
      },
      "outputs": [],
      "source": [
        "def train_epoch(dataloader, model, optimizer):\n",
        "    size = len(dataloader.dataset)\n",
        "\n",
        "    for batch, (x, ) in enumerate(dataloader):\n",
        "        # pass data through network\n",
        "        z, log_jac_det = model(x)\n",
        "\n",
        "        # compute loss\n",
        "        loss = inn_loss(z, ndim, log_jac_det)\n",
        "\n",
        "        # reset gradients in optimizer\n",
        "        optimizer.zero_grad()\n",
        "\n",
        "        # compute gradients\n",
        "        loss.backward()\n",
        "\n",
        "        # update weights with optimizer\n",
        "        optimizer.step()\n",
        "\n",
        "        # print the training loss every 100 updates\n",
        "        if batch % 100 == 0:\n",
        "            loss, current = loss.item(), batch * len(x)\n",
        "            print(f\"current batch loss: {loss:>7f}  [{current:>5d}/{size:>5d}]\")"
      ]
    },
    {
      "cell_type": "code",
      "execution_count": null,
      "metadata": {
        "id": "oEajOJ5msz8T"
      },
      "outputs": [],
      "source": [
        "def val_pass(dataloader, model):\n",
        "    size = len(dataloader.dataset)\n",
        "    num_batches = len(dataloader)\n",
        "    vl = 0.0\n",
        "\n",
        "    # we don't need gradients here since we only use the forward pass\n",
        "    with torch.no_grad():\n",
        "        for x in dataloader:\n",
        "            z, log_jac_det = model(x)\n",
        "            vl += inn_loss(z, ndim, log_jac_det).item()\n",
        "\n",
        "    vl /= num_batches\n",
        "    print(f\"avg val loss per batch: {vl:>8f}\")\n",
        "\n",
        "    return vl\n",
        "\n",
        "def trn_pass(dataloader, model):\n",
        "    size = len(dataloader.dataset)\n",
        "    num_batches = len(dataloader)\n",
        "    tl = 0.0\n",
        "\n",
        "    # we don't need gradients here since we only use the forward pass\n",
        "    with torch.no_grad():\n",
        "        for x in dataloader:\n",
        "            z, log_jac_det = model(x)\n",
        "            tl += inn_loss(z, ndim, log_jac_det).item()\n",
        "\n",
        "    tl /= num_batches\n",
        "    print(f\"avg trn loss per batch: {tl:>8f}\")\n",
        "\n",
        "    return tl"
      ]
    },
    {
      "cell_type": "code",
      "execution_count": null,
      "metadata": {
        "colab": {
          "base_uri": "https://localhost:8080/"
        },
        "id": "FAh2xJMcsz8U",
        "scrolled": true,
        "outputId": "2b4225e3-b6ba-437a-fc10-016f749ed3a1"
      },
      "outputs": [
        {
          "output_type": "stream",
          "name": "stdout",
          "text": [
            "-----------------------------------------------\n",
            "model architecture\n",
            "-----------------------------------------------\n",
            "SequenceINN(\n",
            "  (module_list): ModuleList(\n",
            "    (0-7): 8 x AllInOneBlock(\n",
            "      (softplus): Softplus(beta=0.5, threshold=20)\n",
            "      (subnet): Sequential(\n",
            "        (0): Linear(in_features=4, out_features=32, bias=True)\n",
            "        (1): ReLU()\n",
            "        (2): Linear(in_features=32, out_features=32, bias=True)\n",
            "        (3): ReLU()\n",
            "        (4): Linear(in_features=32, out_features=8, bias=True)\n",
            "      )\n",
            "    )\n",
            "  )\n",
            ")\n",
            "-----------------------------------------------\n",
            "Epoch 1\n",
            "-----------------------------------------------\n",
            "current batch loss: 0.511632  [    0/1384081]\n",
            "current batch loss: -0.144010  [250000/1384081]\n",
            "current batch loss: -0.815477  [500000/1384081]\n",
            "current batch loss: -1.033490  [750000/1384081]\n",
            "current batch loss: -1.156084  [1000000/1384081]\n",
            "current batch loss: -1.233645  [1250000/1384081]\n",
            "-----------------------------------------------\n",
            "avg trn loss per batch: -1.222549\n",
            "-----------------------------------------------\n",
            "avg val loss per batch: -1.223486\n",
            "-----------------------------------------------\n",
            "|\n",
            "-----------------------------------------------\n",
            "Epoch 2\n",
            "-----------------------------------------------\n",
            "current batch loss: -1.213594  [    0/1384081]\n",
            "current batch loss: -1.290937  [250000/1384081]\n",
            "current batch loss: -1.392693  [500000/1384081]\n",
            "current batch loss: -1.416878  [750000/1384081]\n",
            "current batch loss: -1.452403  [1000000/1384081]\n",
            "current batch loss: -1.412055  [1250000/1384081]\n",
            "-----------------------------------------------\n",
            "avg trn loss per batch: -1.495363\n",
            "-----------------------------------------------\n",
            "avg val loss per batch: -1.496387\n",
            "-----------------------------------------------\n",
            "|\n",
            "-----------------------------------------------\n",
            "Epoch 3\n",
            "-----------------------------------------------\n",
            "current batch loss: -1.485415  [    0/1384081]\n",
            "current batch loss: -1.564461  [250000/1384081]\n",
            "current batch loss: -1.491171  [500000/1384081]\n",
            "current batch loss: -1.615290  [750000/1384081]\n",
            "current batch loss: -1.614494  [1000000/1384081]\n",
            "current batch loss: -1.639533  [1250000/1384081]\n",
            "-----------------------------------------------\n",
            "avg trn loss per batch: -1.612028\n",
            "-----------------------------------------------\n",
            "avg val loss per batch: -1.612606\n",
            "-----------------------------------------------\n",
            "|\n",
            "-----------------------------------------------\n",
            "Epoch 4\n",
            "-----------------------------------------------\n",
            "current batch loss: -1.606832  [    0/1384081]\n",
            "current batch loss: -1.651710  [250000/1384081]\n",
            "current batch loss: -1.671011  [500000/1384081]\n",
            "current batch loss: -1.657051  [750000/1384081]\n",
            "current batch loss: -1.704309  [1000000/1384081]\n",
            "current batch loss: -1.727109  [1250000/1384081]\n",
            "-----------------------------------------------\n",
            "avg trn loss per batch: -1.689453\n",
            "-----------------------------------------------\n",
            "avg val loss per batch: -1.690438\n",
            "-----------------------------------------------\n",
            "|\n",
            "-----------------------------------------------\n",
            "Epoch 5\n",
            "-----------------------------------------------\n",
            "current batch loss: -1.709521  [    0/1384081]\n",
            "current batch loss: -1.614604  [250000/1384081]\n",
            "current batch loss: -1.727107  [500000/1384081]\n",
            "current batch loss: -1.739649  [750000/1384081]\n",
            "current batch loss: -1.720643  [1000000/1384081]\n",
            "current batch loss: -1.737909  [1250000/1384081]\n",
            "-----------------------------------------------\n",
            "avg trn loss per batch: -1.709148\n",
            "-----------------------------------------------\n",
            "avg val loss per batch: -1.710088\n",
            "-----------------------------------------------\n",
            "|\n",
            "-----------------------------------------------\n",
            "Epoch 6\n",
            "-----------------------------------------------\n",
            "current batch loss: -1.706584  [    0/1384081]\n",
            "current batch loss: -1.769092  [250000/1384081]\n",
            "current batch loss: -1.717694  [500000/1384081]\n",
            "current batch loss: -1.787919  [750000/1384081]\n",
            "current batch loss: -1.795875  [1000000/1384081]\n",
            "current batch loss: -1.781095  [1250000/1384081]\n",
            "-----------------------------------------------\n",
            "avg trn loss per batch: -1.801293\n",
            "-----------------------------------------------\n",
            "avg val loss per batch: -1.802225\n",
            "-----------------------------------------------\n",
            "|\n",
            "-----------------------------------------------\n",
            "Epoch 7\n",
            "-----------------------------------------------\n",
            "current batch loss: -1.792689  [    0/1384081]\n",
            "current batch loss: -1.822539  [250000/1384081]\n",
            "current batch loss: -1.802261  [500000/1384081]\n",
            "current batch loss: -1.749356  [750000/1384081]\n",
            "current batch loss: -1.830975  [1000000/1384081]\n",
            "current batch loss: -1.840016  [1250000/1384081]\n",
            "-----------------------------------------------\n",
            "avg trn loss per batch: -1.835158\n",
            "-----------------------------------------------\n",
            "avg val loss per batch: -1.835976\n",
            "-----------------------------------------------\n",
            "|\n",
            "-----------------------------------------------\n",
            "Epoch 8\n",
            "-----------------------------------------------\n",
            "current batch loss: -1.840119  [    0/1384081]\n",
            "current batch loss: -1.859836  [250000/1384081]\n",
            "current batch loss: -1.717094  [500000/1384081]\n",
            "current batch loss: -1.867597  [750000/1384081]\n",
            "current batch loss: -1.870062  [1000000/1384081]\n",
            "current batch loss: -1.878759  [1250000/1384081]\n",
            "-----------------------------------------------\n",
            "avg trn loss per batch: -1.820810\n",
            "-----------------------------------------------\n",
            "avg val loss per batch: -1.821947\n",
            "-----------------------------------------------\n",
            "|\n",
            "-----------------------------------------------\n",
            "Epoch 9\n",
            "-----------------------------------------------\n",
            "current batch loss: -1.821345  [    0/1384081]\n",
            "current batch loss: -1.868876  [250000/1384081]\n",
            "current batch loss: -1.788011  [500000/1384081]\n",
            "current batch loss: -1.892796  [750000/1384081]\n",
            "current batch loss: -1.897373  [1000000/1384081]\n",
            "current batch loss: -1.865669  [1250000/1384081]\n",
            "-----------------------------------------------\n",
            "avg trn loss per batch: -1.871966\n",
            "-----------------------------------------------\n",
            "avg val loss per batch: -1.872532\n",
            "-----------------------------------------------\n",
            "|\n",
            "-----------------------------------------------\n",
            "Epoch 10\n",
            "-----------------------------------------------\n",
            "current batch loss: -1.854061  [    0/1384081]\n",
            "current batch loss: -1.919123  [250000/1384081]\n",
            "current batch loss: -1.858903  [500000/1384081]\n",
            "current batch loss: -1.910830  [750000/1384081]\n",
            "current batch loss: -1.921758  [1000000/1384081]\n",
            "current batch loss: -1.944852  [1250000/1384081]\n",
            "-----------------------------------------------\n",
            "avg trn loss per batch: -1.875370\n",
            "-----------------------------------------------\n",
            "avg val loss per batch: -1.875960\n",
            "-----------------------------------------------\n",
            "|\n",
            "Done!\n"
          ]
        }
      ],
      "source": [
        "# a useful function to present things clearer\n",
        "def separator():\n",
        "    print( \"-----------------------------------------------\" )\n",
        "\n",
        "epochs = 10\n",
        "\n",
        "# initialise the model and the optimizer\n",
        "def subnet_fc(dims_in, dims_out):\n",
        "    return nn.Sequential(\n",
        "        nn.Linear(dims_in, 32),\n",
        "        nn.ReLU(),\n",
        "        nn.Linear(32, 32),\n",
        "        nn.ReLU(),\n",
        "        nn.Linear(32,  dims_out)\n",
        "    )\n",
        "ndim = 8\n",
        "inn = Ff.SequenceINN(ndim)\n",
        "for k in range(8):\n",
        "    inn.append(Fm.AllInOneBlock, subnet_constructor=subnet_fc, permute_soft=True)\n",
        "learning_rate = 0.001\n",
        "optimizer = torch.optim.Adam(inn.parameters(), lr=learning_rate)\n",
        "separator()\n",
        "print(\"model architecture\")\n",
        "separator()\n",
        "print(inn)\n",
        "\n",
        "# track train and val losses\n",
        "trn_losses = []\n",
        "val_losses = []\n",
        "\n",
        "for t in range(epochs):\n",
        "    separator()\n",
        "    print(f\"Epoch {t+1}\")\n",
        "    separator()\n",
        "    train_epoch(trn_dataloader, inn, optimizer)\n",
        "    separator()\n",
        "    trn_loss = trn_pass(trn_dataloader, inn)\n",
        "    trn_losses.append(trn_loss)\n",
        "    separator()\n",
        "    val_loss = val_pass(val_dataloader, inn)\n",
        "    val_losses.append(val_loss)\n",
        "    separator()\n",
        "    print(\"|\")\n",
        "\n",
        "print(\"Done!\")"
      ]
    },
    {
      "cell_type": "markdown",
      "metadata": {
        "id": "-c5XBNxbsz8V"
      },
      "source": [
        "## Study the results"
      ]
    },
    {
      "cell_type": "markdown",
      "metadata": {
        "id": "YB8_IzgGsz8W"
      },
      "source": [
        "First let's plot the training and validation losses to see how they look."
      ]
    },
    {
      "cell_type": "code",
      "execution_count": null,
      "metadata": {
        "colab": {
          "base_uri": "https://localhost:8080/",
          "height": 450
        },
        "id": "didwtpihsz8X",
        "outputId": "b4625f7d-fee5-479d-d098-a8e59a5dd382"
      },
      "outputs": [
        {
          "output_type": "display_data",
          "data": {
            "text/plain": [
              "<Figure size 640x480 with 1 Axes>"
            ],
            "image/png": "[encoded data removed]"
          },
          "metadata": {}
        }
      ],
      "source": [
        "fig, axs = plt.subplots()\n",
        "\n",
        "axs.plot(trn_losses, label=\"train loss\")\n",
        "axs.plot(val_losses, label=\"val loss\")\n",
        "\n",
        "axs.set_xlabel(\"epoch\")\n",
        "axs.set_ylabel(\"log likelihood loss\")\n",
        "axs.legend()\n",
        "plt.show()"
      ]
    },
    {
      "cell_type": "markdown",
      "metadata": {
        "id": "4VnS1AYtsz8Y"
      },
      "source": [
        "## Let's generate some events!"
      ]
    },
    {
      "cell_type": "markdown",
      "metadata": {
        "id": "dFV6IvPOsz8Y"
      },
      "source": [
        "We first need to generate random data from the unit normal distribution, the same used during training, with the correct shape.  Here we use $10$k samples."
      ]
    },
    {
      "cell_type": "code",
      "execution_count": null,
      "metadata": {
        "id": "RUgE4ZzRsz8Z"
      },
      "outputs": [],
      "source": [
        "z_gen = torch.randn((10000, ndim))\n",
        "x_gen, _ = inn(z_gen, rev=True)\n",
        "x_gen = x_gen.detach().numpy() * trn_std + trn_mean"
      ]
    },
    {
      "cell_type": "code",
      "execution_count": null,
      "metadata": {
        "colab": {
          "base_uri": "https://localhost:8080/"
        },
        "id": "M3iXB04msz8a",
        "outputId": "84adaa1b-db54-4cec-ad02-535c8a719548"
      },
      "outputs": [
        {
          "output_type": "execute_result",
          "data": {
            "text/plain": [
              "(10000, 8)"
            ]
          },
          "metadata": {},
          "execution_count": 21
        }
      ],
      "source": [
        "x_gen.shape"
      ]
    },
    {
      "cell_type": "markdown",
      "metadata": {
        "id": "UMgpHiyhsz8b"
      },
      "source": [
        "Plot the energy distribution of the first jet, for both real and generated data:"
      ]
    },
    {
      "cell_type": "code",
      "execution_count": null,
      "metadata": {
        "colab": {
          "base_uri": "https://localhost:8080/",
          "height": 453
        },
        "id": "cJDbzDKgsz8b",
        "outputId": "6ced5ef5-8aea-40fd-dbdc-a6047093a534"
      },
      "outputs": [
        {
          "output_type": "display_data",
          "data": {
            "text/plain": [
              "<Figure size 640x480 with 1 Axes>"
            ],
            "image/png": "[encoded data removed]"
          },
          "metadata": {}
        }
      ],
      "source": [
        "fig, axs = plt.subplots()\n",
        "\n",
        "bins = np.arange(0, 350, step=20)\n",
        "axs.hist(x_gen[:,0], alpha=0.5, density=True, bins=bins, label='gen')\n",
        "axs.hist(dy_trn_data[:,0], alpha=0.5, density=True, bins=bins, label='real')\n",
        "\n",
        "axs.set_xlabel(\"$E_{1}$ (GeV)\")\n",
        "axs.set_ylabel(\"# events\")\n",
        "axs.legend()\n",
        "plt.show()"
      ]
    },
    {
      "cell_type": "markdown",
      "metadata": {
        "id": "gWbMsyRXsz8c"
      },
      "source": [
        "Looks good!"
      ]
    },
    {
      "cell_type": "markdown",
      "metadata": {
        "id": "_aRCE_uusz8d"
      },
      "source": [
        "We can do the same for $p_y$ of the first jet:"
      ]
    },
    {
      "cell_type": "code",
      "execution_count": null,
      "metadata": {
        "colab": {
          "base_uri": "https://localhost:8080/",
          "height": 455
        },
        "id": "PY_-eneGsz8d",
        "outputId": "1c35af4b-c66e-4dea-88c2-f7593be0e29e"
      },
      "outputs": [
        {
          "output_type": "display_data",
          "data": {
            "text/plain": [
              "<Figure size 640x480 with 1 Axes>"
            ],
            "image/png": "[encoded data removed]"
          },
          "metadata": {}
        }
      ],
      "source": [
        "fig, axs = plt.subplots()\n",
        "\n",
        "bins = np.arange(-100, +100, step=10)\n",
        "axs.hist(x_gen[:,2], alpha=0.5, density=True, bins=bins, label='gen')\n",
        "axs.hist(dy_trn_data[:,2], alpha=0.5, density=True, bins=bins, label='real')\n",
        "\n",
        "axs.set_xlabel(\"$p_{y,1}$ (GeV)\")\n",
        "axs.set_ylabel(\"# events\")\n",
        "axs.legend()\n",
        "plt.show()"
      ]
    },
    {
      "cell_type": "markdown",
      "metadata": {
        "id": "LQQvOL17sz8e"
      },
      "source": [
        "The network struggles to get the double peak structure and the sharply decaying tails of the real data right."
      ]
    },
    {
      "cell_type": "code",
      "execution_count": null,
      "metadata": {
        "colab": {
          "base_uri": "https://localhost:8080/"
        },
        "id": "SNwR8H0Nsz8f",
        "outputId": "27228814-e1cc-4b3f-ebed-e46e9859caf9"
      },
      "outputs": [
        {
          "output_type": "stream",
          "name": "stderr",
          "text": [
            "<ipython-input-5-75ea4b402ded>:6: RuntimeWarning: invalid value encountered in sqrt\n",
            "  evnt_im = np.sqrt(np.sum((evnt_4m[:,0]**2, -evnt_4m[:,1]**2, -evnt_4m[:,2]**2, -evnt_4m[:,3]**2 ), axis=0))\n"
          ]
        }
      ],
      "source": [
        "x_gen_evnt_ims, x_gen_evnt_pts, x_gen_jet1_pts, x_gen_jet2_pts = get_obs(x_gen)"
      ]
    },
    {
      "cell_type": "markdown",
      "metadata": {
        "id": "RyLYK8mBsz8g"
      },
      "source": [
        "The $p_T$ of the first jet:"
      ]
    },
    {
      "cell_type": "code",
      "execution_count": null,
      "metadata": {
        "colab": {
          "base_uri": "https://localhost:8080/",
          "height": 453
        },
        "id": "N0bSUWMrsz8g",
        "outputId": "7d4c6ff0-204d-40bd-ad8a-c111b970e686"
      },
      "outputs": [
        {
          "output_type": "display_data",
          "data": {
            "text/plain": [
              "<Figure size 640x480 with 1 Axes>"
            ],
            "image/png": "[encoded data removed]"
          },
          "metadata": {}
        }
      ],
      "source": [
        "fig, axs = plt.subplots()\n",
        "\n",
        "bins = np.arange(5, 85, step=5)\n",
        "axs.hist(x_gen_jet1_pts, alpha=0.5, density=True, bins=bins, label='gen')\n",
        "axs.hist(trn_jet1_pts, alpha=0.5, density=True, bins=bins, label='real')\n",
        "\n",
        "axs.set_xlabel(\"$p_{T,1}$ (GeV)\")\n",
        "axs.set_ylabel(\"# events\")\n",
        "axs.legend()\n",
        "plt.show()"
      ]
    },
    {
      "cell_type": "markdown",
      "metadata": {
        "id": "vtUpFd9gsz8i"
      },
      "source": [
        "Again, you can see that the network struggles to reproduce the distribution, espectially the steep decay at $m_Z / 2$"
      ]
    },
    {
      "cell_type": "markdown",
      "metadata": {
        "id": "QkHC1Zoesz8i"
      },
      "source": [
        "Now the invariant mass of the whole event:"
      ]
    },
    {
      "cell_type": "code",
      "execution_count": null,
      "metadata": {
        "colab": {
          "base_uri": "https://localhost:8080/",
          "height": 455
        },
        "id": "c_W2L3wpsz8j",
        "outputId": "18fb3ed3-6f3f-41b6-c41a-a55fa49d16d0"
      },
      "outputs": [
        {
          "output_type": "display_data",
          "data": {
            "text/plain": [
              "<Figure size 640x480 with 1 Axes>"
            ],
            "image/png": "[encoded data removed]"
          },
          "metadata": {}
        }
      ],
      "source": [
        "fig, axs = plt.subplots()\n",
        "\n",
        "bins = np.arange(5, 165, step=10)\n",
        "axs.hist(np.nan_to_num(x_gen_evnt_ims), alpha=0.5, density=True, bins=bins, label='gen')\n",
        "axs.hist(np.nan_to_num(trn_evnt_ims), alpha=0.5, density=True, bins=bins, label='real')\n",
        "\n",
        "axs.set_xlabel(\"$m_{\\mu\\mu}$ (GeV)\")\n",
        "axs.set_ylabel(\"# events\")\n",
        "axs.legend()\n",
        "plt.show()"
      ]
    },
    {
      "cell_type": "markdown",
      "metadata": {
        "id": "I93KOpsgsz8m"
      },
      "source": [
        "While the mass peak is centered at the correct position, it is much wider than in the real data."
      ]
    },
    {
      "cell_type": "markdown",
      "metadata": {
        "id": "BSK3rl8Jsz8n"
      },
      "source": [
        "## Removing redundant degrees of freedom"
      ]
    },
    {
      "cell_type": "markdown",
      "metadata": {
        "id": "ezEZ-vEWsz8n"
      },
      "source": [
        "In the collider the incoming particles have no momentum in the $x$ or $y$ directions, therefore momentum conservation means that the final state should also not have any momentum in these directions.  This means that we have redundant degrees of freedom that can be removed from the data.\n",
        "\n",
        "We can check this:"
      ]
    },
    {
      "cell_type": "code",
      "execution_count": null,
      "metadata": {
        "colab": {
          "base_uri": "https://localhost:8080/",
          "height": 453
        },
        "id": "ROBP-6ePsz8o",
        "outputId": "f2c58e54-5301-42f8-fcf4-019fedcca8ea"
      },
      "outputs": [
        {
          "output_type": "display_data",
          "data": {
            "text/plain": [
              "<Figure size 640x480 with 1 Axes>"
            ],
            "image/png": "[encoded data removed]"
          },
          "metadata": {}
        }
      ],
      "source": [
        "fig, axs = plt.subplots()\n",
        "\n",
        "bins = np.arange(-5, 5, step=0.1)\n",
        "axs.hist(dy_trn_data[:,1]+dy_trn_data[:,5], alpha=0.5, density=True, bins=bins, label='$p_{x,1}+p_{x_2}$')\n",
        "axs.hist(dy_trn_data[:,2]+dy_trn_data[:,6], alpha=0.5, density=True, bins=bins, label='$p_{y,1}+p_{y_2}$')\n",
        "\n",
        "axs.set_xlabel(\"$p_T$ (GeV)\")\n",
        "axs.set_ylabel(\"# events\")\n",
        "axs.legend()\n",
        "plt.show()"
      ]
    },
    {
      "cell_type": "markdown",
      "metadata": {
        "id": "SY8UM1I5sz8o"
      },
      "source": [
        "Muons have a mass of about $106$ MeV.  This is much smaller than the typical energy scales involved in the Drell-Yan process we are studying, so we can assume to a good approximation that the mass of the final state particles are zero.  These final state particles are on-shell, i.e. $p^2=m^2=0$, so we can also use this as a constraint.  We can check that this approximately holds:"
      ]
    },
    {
      "cell_type": "code",
      "execution_count": null,
      "metadata": {
        "colab": {
          "base_uri": "https://localhost:8080/",
          "height": 455
        },
        "id": "eLDUUVd2sz8p",
        "outputId": "92ccab67-e3eb-4b38-c618-adc3fff1d8f7"
      },
      "outputs": [
        {
          "output_type": "display_data",
          "data": {
            "text/plain": [
              "<Figure size 640x480 with 1 Axes>"
            ],
            "image/png": "[encoded data removed]"
          },
          "metadata": {}
        }
      ],
      "source": [
        "fig, axs = plt.subplots()\n",
        "\n",
        "bins = np.arange(-5, 5, step=0.1)\n",
        "axs.hist(dy_trn_data[:,0]**2-dy_trn_data[:,1]**2-dy_trn_data[:,2]**2-dy_trn_data[:,3]**2,\n",
        "         alpha=0.5, density=True, bins=bins, label='$m_1^2$')\n",
        "axs.hist(dy_trn_data[:,4]**2-dy_trn_data[:,5]**2-dy_trn_data[:,6]**2-dy_trn_data[:,7]**2,\n",
        "         alpha=0.5, density=True, bins=bins, label='$m_2^2$')\n",
        "\n",
        "axs.set_xlabel(\"$m^2$ (GeV$^2$)\")\n",
        "axs.set_ylabel(\"# events\")\n",
        "axs.legend()\n",
        "plt.show()"
      ]
    },
    {
      "cell_type": "markdown",
      "metadata": {
        "id": "i0FevZZwsz8q"
      },
      "source": [
        "We can remove 4 degrees of freedom from the data. For the remaining 4 degrees of freedom, we can choose a more suitable representation that takes into account the symmetries of our data:\n",
        "- $p_T = \\sqrt{p_{x,1}^2+p_{y,1}^2}$\n",
        "- $\\eta_1 = \\text{arctanh}\\left(\\frac{p_{z,1}}{\\sqrt{p_{x,1}^2+p_{y,1}^2+p_{z,1}^2}}\\right)$\n",
        "- $\\eta_2 = \\text{arctanh}\\left(\\frac{p_{z,2}}{\\sqrt{p_{x,2}^2+p_{y,2}^2+p_{z,2}^2}}\\right)$\n",
        "- $\\phi = \\text{arctan2}(p_{y,1}, p_{x,1})$\n",
        "\n",
        "We know that $\\phi$ is uniformly distributed, so we don't have to train the network on it and just sample it from a uniform distribution. So we are left with 3 degrees of freedom."
      ]
    },
    {
      "cell_type": "markdown",
      "metadata": {
        "id": "ZB1_bHWMsz8u"
      },
      "source": [
        "Let's re-do the data."
      ]
    },
    {
      "cell_type": "code",
      "execution_count": null,
      "metadata": {
        "id": "dDQ4aKl7sz8v"
      },
      "outputs": [],
      "source": [
        "def remove_dof(data_full):\n",
        "    pt = np.sqrt(data_full[:,1]**2 + data_full[:,2]**2)\n",
        "    eta1 = np.arctanh(data_full[:,3] / np.sqrt(data_full[:,1]**2 + data_full[:,2]**2 + data_full[:,3]**2))\n",
        "    eta2 = np.arctanh(data_full[:,7] / np.sqrt(data_full[:,5]**2 + data_full[:,6]**2 + data_full[:,7]**2))\n",
        "    return np.stack((pt, eta1, eta2), axis=1)\n",
        "\n",
        "def add_dof(data_red):\n",
        "    pt = data_red[...,0]\n",
        "    eta1 = data_red[...,1]\n",
        "    eta2 = data_red[...,2]\n",
        "    phi1 = np.random.uniform(0, 2*np.pi, data_red.shape[:-1])\n",
        "    px1 = pt * np.cos(phi1)\n",
        "    py1 = pt * np.sin(phi1)\n",
        "    pz1 = pt * np.sinh(eta1)\n",
        "    e1 = np.sqrt(px1**2 + py1**2 + pz1**2)\n",
        "    px2 = -px1\n",
        "    py2 = -py1\n",
        "    pz2 = pt * np.sinh(eta2)\n",
        "    e2 = np.sqrt(px2**2 + py2**2 + pz2**2)\n",
        "    return np.stack((e1, px1, py1, pz1, e2, px2, py2, pz2), axis=-1)"
      ]
    },
    {
      "cell_type": "code",
      "execution_count": null,
      "metadata": {
        "id": "ttcVMGeGsz8y"
      },
      "outputs": [],
      "source": [
        "dy_trn_data_nr = remove_dof(dy_trn_data)\n",
        "dy_val_data_nr = remove_dof(dy_val_data)\n",
        "dy_tst_data_nr = remove_dof(dy_tst_data)"
      ]
    },
    {
      "cell_type": "code",
      "execution_count": null,
      "metadata": {
        "colab": {
          "base_uri": "https://localhost:8080/"
        },
        "id": "frhmBaiasz8z",
        "outputId": "5b3ff325-de40-414c-b41e-0846fd547917"
      },
      "outputs": [
        {
          "output_type": "execute_result",
          "data": {
            "text/plain": [
              "((1384081, 3), (296588, 3), (296588, 3))"
            ]
          },
          "metadata": {},
          "execution_count": 31
        }
      ],
      "source": [
        "dy_trn_data_nr.shape, dy_val_data_nr.shape, dy_tst_data_nr.shape"
      ]
    },
    {
      "cell_type": "code",
      "execution_count": null,
      "metadata": {
        "id": "2v0FjJ97sz8z"
      },
      "outputs": [],
      "source": [
        "trn_mean_nr = np.mean(dy_trn_data_nr, axis=0)\n",
        "trn_std_nr = np.std(dy_trn_data_nr, axis=0)\n",
        "dy_trn_data_nr_p = torch.Tensor((dy_trn_data_nr - trn_mean_nr) / trn_std_nr)\n",
        "dy_val_data_nr_p = torch.Tensor((dy_val_data_nr - trn_mean_nr) / trn_std_nr)\n",
        "dy_tst_data_nr_p = torch.Tensor((dy_tst_data_nr - trn_mean_nr) / trn_std_nr)"
      ]
    },
    {
      "cell_type": "code",
      "execution_count": null,
      "metadata": {
        "id": "TH3zobrMsz80"
      },
      "outputs": [],
      "source": [
        "trn_dataset_nr = TensorDataset(dy_trn_data_nr_p)\n",
        "val_dataset_nr = TensorDataset(dy_val_data_nr_p)\n",
        "tst_dataset_nr = TensorDataset(dy_tst_data_nr_p)\n",
        "trn_dataloader_nr = DataLoader(trn_dataset_nr, batch_size=2500, shuffle=True)\n",
        "val_dataloader_nr = DataLoader(val_dataset_nr, batch_size=2500, shuffle=True)\n",
        "tst_dataloader_nr = DataLoader(tst_dataset_nr, batch_size=2500, shuffle=True)"
      ]
    },
    {
      "cell_type": "markdown",
      "metadata": {
        "id": "T-uoFxQ6sz81"
      },
      "source": [
        "Let's double check it:"
      ]
    },
    {
      "cell_type": "code",
      "execution_count": null,
      "metadata": {
        "id": "_YPPiQCksz82"
      },
      "outputs": [],
      "source": [
        "trn_events_nr = add_dof(dy_trn_data_nr)\n",
        "val_events_nr = add_dof(dy_val_data_nr)\n",
        "tst_events_nr = add_dof(dy_tst_data_nr)\n",
        "\n",
        "trn_evnt_nr_ims, trn_evnt_nr_pts, trn_jet1_nr_pts, trn_jet2_nr_pts = get_obs(trn_events_nr)\n",
        "val_evnt_nr_ims, val_evnt_nr_pts, val_jet1_nr_pts, val_jet2_nr_pts = get_obs(val_events_nr)\n",
        "tst_evnt_nr_ims, tst_evnt_nr_pts, tst_jet1_nr_pts, tst_jet2_nr_pts = get_obs(tst_events_nr)"
      ]
    },
    {
      "cell_type": "markdown",
      "metadata": {
        "id": "caShklxVsz82"
      },
      "source": [
        "Plot $p_{y,1}$ (they are not exactly the same because we throw away $\\phi$ and then sample it again):"
      ]
    },
    {
      "cell_type": "code",
      "execution_count": null,
      "metadata": {
        "colab": {
          "base_uri": "https://localhost:8080/",
          "height": 455
        },
        "id": "rCjz827Wsz83",
        "outputId": "1cd62074-8fe2-4fdd-9f5f-9bd9a35e779e"
      },
      "outputs": [
        {
          "output_type": "display_data",
          "data": {
            "text/plain": [
              "<Figure size 640x480 with 1 Axes>"
            ],
            "image/png": "[encoded data removed]"
          },
          "metadata": {}
        }
      ],
      "source": [
        "fig, axs = plt.subplots()\n",
        "\n",
        "bins = np.arange(-100, +100, step=10)\n",
        "axs.hist(trn_events_nr[:,2], alpha=0.5, density=True, bins=bins, label='gen')\n",
        "axs.hist(dy_trn_data[:,2], alpha=0.5, density=True, bins=bins, label='real')\n",
        "\n",
        "axs.set_xlabel(\"$p_{y,1}$ (GeV)\")\n",
        "axs.set_ylabel(\"# events\")\n",
        "axs.legend()\n",
        "plt.show()"
      ]
    },
    {
      "cell_type": "markdown",
      "metadata": {
        "id": "S9ncwefHsz84"
      },
      "source": [
        "Let's plot the invariant mass of the events:"
      ]
    },
    {
      "cell_type": "code",
      "execution_count": null,
      "metadata": {
        "colab": {
          "base_uri": "https://localhost:8080/",
          "height": 455
        },
        "id": "yG8J6RcWsz85",
        "outputId": "7e46aa2f-bc58-4b8d-ddb3-3299c237a3f6"
      },
      "outputs": [
        {
          "output_type": "display_data",
          "data": {
            "text/plain": [
              "<Figure size 640x480 with 1 Axes>"
            ],
            "image/png": "[encoded data removed]"
          },
          "metadata": {}
        }
      ],
      "source": [
        "fig, axs = plt.subplots()\n",
        "\n",
        "axs.hist(trn_evnt_nr_ims, alpha=0.5, density=True, bins=15)\n",
        "axs.set_xlabel(\"$m_{\\mu\\mu}$ (GeV)\")\n",
        "axs.set_ylabel(\"# events\")\n",
        "plt.show()"
      ]
    },
    {
      "cell_type": "markdown",
      "metadata": {
        "id": "oFJz2zrpsz87"
      },
      "source": [
        "Here we see the clear $Z$ mass peak at $\\simeq 90$ GeV."
      ]
    },
    {
      "cell_type": "markdown",
      "metadata": {
        "id": "Dn-w593msz87"
      },
      "source": [
        "Now let's look at $p_T$ distributions:"
      ]
    },
    {
      "cell_type": "code",
      "execution_count": null,
      "metadata": {
        "colab": {
          "base_uri": "https://localhost:8080/",
          "height": 453
        },
        "id": "WtzAHLqbsz88",
        "outputId": "0bc94220-e08e-4222-e5d9-1f03440231e2"
      },
      "outputs": [
        {
          "output_type": "display_data",
          "data": {
            "text/plain": [
              "<Figure size 640x480 with 1 Axes>"
            ],
            "image/png": "[encoded data removed]"
          },
          "metadata": {}
        }
      ],
      "source": [
        "fig, axs = plt.subplots()\n",
        "\n",
        "axs.hist(trn_jet1_nr_pts, alpha=0.5, density=True, bins=15)\n",
        "axs.hist(trn_jet2_nr_pts, alpha=0.5, density=True, bins=15)\n",
        "\n",
        "axs.set_xlabel(\"$p_{T}$ (GeV)\")\n",
        "axs.set_ylabel(\"# events\")\n",
        "plt.show()"
      ]
    },
    {
      "cell_type": "markdown",
      "metadata": {
        "id": "ezyWI17-sz89"
      },
      "source": [
        "So we can recover the original distributions.  Let's move on."
      ]
    },
    {
      "cell_type": "markdown",
      "metadata": {
        "id": "L6mW8DV8sz8-"
      },
      "source": [
        "## Optimising the INN on the reduced data"
      ]
    },
    {
      "cell_type": "code",
      "execution_count": null,
      "metadata": {
        "colab": {
          "base_uri": "https://localhost:8080/"
        },
        "id": "Suxc1iPLsz8_",
        "scrolled": true,
        "outputId": "01894787-8ca8-468a-a30c-d7f0945db3a7"
      },
      "outputs": [
        {
          "output_type": "stream",
          "name": "stdout",
          "text": [
            "-----------------------------------------------\n",
            "model architecture \n",
            "-----------------------------------------------\n",
            "SequenceINN(\n",
            "  (module_list): ModuleList(\n",
            "    (0-7): 8 x AllInOneBlock(\n",
            "      (softplus): Softplus(beta=0.5, threshold=20)\n",
            "      (subnet): Sequential(\n",
            "        (0): Linear(in_features=2, out_features=32, bias=True)\n",
            "        (1): ReLU()\n",
            "        (2): Linear(in_features=32, out_features=32, bias=True)\n",
            "        (3): ReLU()\n",
            "        (4): Linear(in_features=32, out_features=2, bias=True)\n",
            "      )\n",
            "    )\n",
            "  )\n",
            ")\n",
            "-----------------------------------------------\n",
            "Epoch 1\n",
            "-----------------------------------------------\n",
            "current batch loss: 0.184900  [    0/1384081]\n",
            "current batch loss: 0.070300  [250000/1384081]\n",
            "current batch loss: -0.003528  [500000/1384081]\n",
            "current batch loss: -0.027054  [750000/1384081]\n",
            "current batch loss: -0.041523  [1000000/1384081]\n",
            "current batch loss: -0.058072  [1250000/1384081]\n",
            "-----------------------------------------------\n",
            "avg trn loss per batch: -0.061483\n",
            "-----------------------------------------------\n",
            "avg val loss per batch: -0.061649\n",
            "-----------------------------------------------\n",
            "|\n",
            "-----------------------------------------------\n",
            "Epoch 2\n",
            "-----------------------------------------------\n",
            "current batch loss: -0.064259  [    0/1384081]\n",
            "current batch loss: -0.073426  [250000/1384081]\n",
            "current batch loss: -0.070337  [500000/1384081]\n",
            "current batch loss: -0.079801  [750000/1384081]\n",
            "current batch loss: -0.075810  [1000000/1384081]\n",
            "current batch loss: -0.070944  [1250000/1384081]\n",
            "-----------------------------------------------\n",
            "avg trn loss per batch: -0.079999\n",
            "-----------------------------------------------\n",
            "avg val loss per batch: -0.079990\n",
            "-----------------------------------------------\n",
            "|\n",
            "-----------------------------------------------\n",
            "Epoch 3\n",
            "-----------------------------------------------\n",
            "current batch loss: -0.078430  [    0/1384081]\n",
            "current batch loss: -0.080791  [250000/1384081]\n",
            "current batch loss: -0.080062  [500000/1384081]\n",
            "current batch loss: -0.082490  [750000/1384081]\n",
            "current batch loss: -0.081617  [1000000/1384081]\n",
            "current batch loss: -0.083159  [1250000/1384081]\n",
            "-----------------------------------------------\n",
            "avg trn loss per batch: -0.083031\n",
            "-----------------------------------------------\n",
            "avg val loss per batch: -0.082841\n",
            "-----------------------------------------------\n",
            "|\n",
            "-----------------------------------------------\n",
            "Epoch 4\n",
            "-----------------------------------------------\n",
            "current batch loss: -0.079852  [    0/1384081]\n",
            "current batch loss: -0.077601  [250000/1384081]\n",
            "current batch loss: -0.083844  [500000/1384081]\n",
            "current batch loss: -0.081606  [750000/1384081]\n",
            "current batch loss: -0.082525  [1000000/1384081]\n",
            "current batch loss: -0.092077  [1250000/1384081]\n",
            "-----------------------------------------------\n",
            "avg trn loss per batch: -0.084363\n",
            "-----------------------------------------------\n",
            "avg val loss per batch: -0.084177\n",
            "-----------------------------------------------\n",
            "|\n",
            "-----------------------------------------------\n",
            "Epoch 5\n",
            "-----------------------------------------------\n",
            "current batch loss: -0.089527  [    0/1384081]\n",
            "current batch loss: -0.082509  [250000/1384081]\n",
            "current batch loss: -0.089534  [500000/1384081]\n",
            "current batch loss: -0.084314  [750000/1384081]\n",
            "current batch loss: -0.078170  [1000000/1384081]\n",
            "current batch loss: -0.086557  [1250000/1384081]\n",
            "-----------------------------------------------\n",
            "avg trn loss per batch: -0.085321\n",
            "-----------------------------------------------\n",
            "avg val loss per batch: -0.085083\n",
            "-----------------------------------------------\n",
            "|\n",
            "-----------------------------------------------\n",
            "Epoch 6\n",
            "-----------------------------------------------\n",
            "current batch loss: -0.088075  [    0/1384081]\n",
            "current batch loss: -0.084354  [250000/1384081]\n",
            "current batch loss: -0.081964  [500000/1384081]\n",
            "current batch loss: -0.080543  [750000/1384081]\n",
            "current batch loss: -0.090765  [1000000/1384081]\n",
            "current batch loss: -0.082928  [1250000/1384081]\n",
            "-----------------------------------------------\n",
            "avg trn loss per batch: -0.085616\n",
            "-----------------------------------------------\n",
            "avg val loss per batch: -0.085413\n",
            "-----------------------------------------------\n",
            "|\n",
            "-----------------------------------------------\n",
            "Epoch 7\n",
            "-----------------------------------------------\n",
            "current batch loss: -0.086838  [    0/1384081]\n",
            "current batch loss: -0.085336  [250000/1384081]\n",
            "current batch loss: -0.088274  [500000/1384081]\n",
            "current batch loss: -0.088083  [750000/1384081]\n",
            "current batch loss: -0.089014  [1000000/1384081]\n",
            "current batch loss: -0.089208  [1250000/1384081]\n",
            "-----------------------------------------------\n",
            "avg trn loss per batch: -0.086174\n",
            "-----------------------------------------------\n",
            "avg val loss per batch: -0.086018\n",
            "-----------------------------------------------\n",
            "|\n",
            "-----------------------------------------------\n",
            "Epoch 8\n",
            "-----------------------------------------------\n",
            "current batch loss: -0.082827  [    0/1384081]\n",
            "current batch loss: -0.082868  [250000/1384081]\n",
            "current batch loss: -0.087534  [500000/1384081]\n",
            "current batch loss: -0.084622  [750000/1384081]\n",
            "current batch loss: -0.084269  [1000000/1384081]\n",
            "current batch loss: -0.081721  [1250000/1384081]\n",
            "-----------------------------------------------\n",
            "avg trn loss per batch: -0.086601\n",
            "-----------------------------------------------\n",
            "avg val loss per batch: -0.086387\n",
            "-----------------------------------------------\n",
            "|\n",
            "-----------------------------------------------\n",
            "Epoch 9\n",
            "-----------------------------------------------\n",
            "current batch loss: -0.087183  [    0/1384081]\n",
            "current batch loss: -0.090033  [250000/1384081]\n",
            "current batch loss: -0.089970  [500000/1384081]\n",
            "current batch loss: -0.087769  [750000/1384081]\n",
            "current batch loss: -0.085964  [1000000/1384081]\n",
            "current batch loss: -0.087257  [1250000/1384081]\n",
            "-----------------------------------------------\n",
            "avg trn loss per batch: -0.085749\n",
            "-----------------------------------------------\n",
            "avg val loss per batch: -0.085604\n",
            "-----------------------------------------------\n",
            "|\n",
            "-----------------------------------------------\n",
            "Epoch 10\n",
            "-----------------------------------------------\n",
            "current batch loss: -0.090187  [    0/1384081]\n",
            "current batch loss: -0.084613  [250000/1384081]\n",
            "current batch loss: -0.085913  [500000/1384081]\n",
            "current batch loss: -0.093037  [750000/1384081]\n",
            "current batch loss: -0.088531  [1000000/1384081]\n",
            "current batch loss: -0.084759  [1250000/1384081]\n",
            "-----------------------------------------------\n",
            "avg trn loss per batch: -0.087377\n",
            "-----------------------------------------------\n",
            "avg val loss per batch: -0.087153\n",
            "-----------------------------------------------\n",
            "|\n",
            "Done!\n"
          ]
        }
      ],
      "source": [
        "# a useful function to present things clearer\n",
        "def separator():\n",
        "    print(\"-----------------------------------------------\")\n",
        "\n",
        "epochs = 10\n",
        "\n",
        "# re-initialise the model and the optimizer\n",
        "def subnet_fc(dims_in, dims_out):\n",
        "    return nn.Sequential(\n",
        "        nn.Linear(dims_in, 32),\n",
        "        nn.ReLU(),\n",
        "        nn.Linear(32, 32),\n",
        "        nn.ReLU(),\n",
        "        nn.Linear(32, dims_out)\n",
        "    )\n",
        "ndim_nr = 3\n",
        "inn_nr = Ff.SequenceINN(ndim_nr)\n",
        "for k in range(8):\n",
        "    inn_nr.append(Fm.AllInOneBlock, subnet_constructor=subnet_fc, permute_soft=True)\n",
        "learning_rate = 0.001\n",
        "optimizer_nr = torch.optim.Adam(inn_nr.parameters(), lr=learning_rate)\n",
        "separator()\n",
        "print(\"model architecture \")\n",
        "separator()\n",
        "print(inn_nr)\n",
        "\n",
        "# track train and val losses\n",
        "trn_losses_nr = []\n",
        "val_losses_nr = []\n",
        "\n",
        "for t in range(epochs):\n",
        "    separator()\n",
        "    print(f\"Epoch {t+1}\")\n",
        "    separator()\n",
        "    train_epoch(trn_dataloader_nr, inn_nr, optimizer_nr)\n",
        "    separator()\n",
        "    trn_loss = trn_pass(trn_dataloader_nr, inn_nr)\n",
        "    trn_losses_nr.append(trn_loss)\n",
        "    separator()\n",
        "    val_loss = val_pass(val_dataloader_nr, inn_nr)\n",
        "    val_losses_nr.append(val_loss)\n",
        "    separator()\n",
        "    print( \"|\" )\n",
        "\n",
        "print(\"Done!\")"
      ]
    },
    {
      "cell_type": "code",
      "execution_count": null,
      "metadata": {
        "colab": {
          "base_uri": "https://localhost:8080/",
          "height": 449
        },
        "id": "A4rjg_ZAsz9A",
        "outputId": "24063506-cde8-4413-f800-66dccdd88cf0"
      },
      "outputs": [
        {
          "output_type": "display_data",
          "data": {
            "text/plain": [
              "<Figure size 640x480 with 1 Axes>"
            ],
            "image/png": "[encoded data removed]"
          },
          "metadata": {}
        }
      ],
      "source": [
        "fig, axs = plt.subplots()\n",
        "\n",
        "axs.plot(trn_losses_nr, label=\"train loss\")\n",
        "axs.plot(val_losses_nr, label=\"val loss\")\n",
        "\n",
        "axs.set_xlabel(\"epoch\")\n",
        "axs.set_ylabel(\"loss\")\n",
        "axs.legend()\n",
        "plt.show()"
      ]
    },
    {
      "cell_type": "markdown",
      "metadata": {
        "id": "WxYvzCHIsz9B"
      },
      "source": [
        "## Study the new results"
      ]
    },
    {
      "cell_type": "markdown",
      "metadata": {
        "id": "beF20byYsz9C"
      },
      "source": [
        "We now generate data and recover the original observables."
      ]
    },
    {
      "cell_type": "code",
      "execution_count": null,
      "metadata": {
        "id": "NfFsBs5Vsz9D"
      },
      "outputs": [],
      "source": [
        "z_gen_nr = torch.randn((10000, ndim_nr))\n",
        "x_gen_nr, _ = inn_nr(z_gen_nr, rev=True)\n",
        "x_gen_nr = x_gen_nr.detach().numpy() * trn_std_nr + trn_mean_nr\n",
        "x_gen_nr = add_dof(x_gen_nr)"
      ]
    },
    {
      "cell_type": "markdown",
      "metadata": {
        "id": "cmZWo0Etsz9E"
      },
      "source": [
        "Plot the energy distribution of the first jet, for both real and generated data:"
      ]
    },
    {
      "cell_type": "code",
      "execution_count": null,
      "metadata": {
        "colab": {
          "base_uri": "https://localhost:8080/",
          "height": 453
        },
        "id": "SC3mZ5Egsz9F",
        "outputId": "a83d7fa1-3e1f-4b02-8823-f558a58a55fc"
      },
      "outputs": [
        {
          "output_type": "display_data",
          "data": {
            "text/plain": [
              "<Figure size 640x480 with 1 Axes>"
            ],
            "image/png": "[encoded data removed]"
          },
          "metadata": {}
        }
      ],
      "source": [
        "fig, axs = plt.subplots()\n",
        "\n",
        "bins = np.arange(0, 350, step=20)\n",
        "axs.hist(x_gen_nr[:,0], alpha=0.5, density=True, bins=bins, label='gen')\n",
        "axs.hist(dy_trn_data[:,0], alpha=0.5, density=True, bins=bins, label='real')\n",
        "\n",
        "axs.set_xlabel(\"$E_{1}$ (GeV)\")\n",
        "axs.set_ylabel(\"# events\")\n",
        "axs.legend()\n",
        "plt.show()"
      ]
    },
    {
      "cell_type": "markdown",
      "metadata": {
        "id": "JFtkbBXPsz9G"
      },
      "source": [
        "This time, the generated data matches the truth data better than before!\n",
        "\n",
        "We can do the same for $p_y$ of the first jet:"
      ]
    },
    {
      "cell_type": "code",
      "execution_count": null,
      "metadata": {
        "colab": {
          "base_uri": "https://localhost:8080/",
          "height": 455
        },
        "id": "rVCHVoYwsz9H",
        "outputId": "99796958-d76f-4b68-816b-75be0b4f1a8a"
      },
      "outputs": [
        {
          "output_type": "display_data",
          "data": {
            "text/plain": [
              "<Figure size 640x480 with 1 Axes>"
            ],
            "image/png": "[encoded data removed]"
          },
          "metadata": {}
        }
      ],
      "source": [
        "fig, axs = plt.subplots()\n",
        "\n",
        "bins = np.arange(-100, +100, step=10)\n",
        "axs.hist(x_gen_nr[:,6], alpha=0.5, density=True, bins=bins, label='gen')\n",
        "axs.hist(dy_trn_data[:,6], alpha=0.5, density=True, bins=bins, label='real')\n",
        "\n",
        "axs.set_xlabel(\"$p_{y,1}$ (GeV)\")\n",
        "axs.set_ylabel(\"# events\")\n",
        "axs.legend()\n",
        "plt.show()"
      ]
    },
    {
      "cell_type": "markdown",
      "metadata": {
        "id": "s5f4h6Ggsz9I"
      },
      "source": [
        "This looks much better than before! Let's look at some other observables.\n",
        "\n",
        "First we need to calucate them from the generated data:"
      ]
    },
    {
      "cell_type": "code",
      "execution_count": null,
      "metadata": {
        "id": "PwSSFIOosz9J"
      },
      "outputs": [],
      "source": [
        "x_gen_evnt_nr_ims, x_gen_evnt_nr_pts, x_gen_jet1_nr_pts, x_gen_jet2_nr_pts = get_obs(x_gen_nr)"
      ]
    },
    {
      "cell_type": "markdown",
      "metadata": {
        "id": "lwqyuiVHsz9N"
      },
      "source": [
        "The $p_T$ of the first jet:"
      ]
    },
    {
      "cell_type": "code",
      "execution_count": null,
      "metadata": {
        "colab": {
          "base_uri": "https://localhost:8080/",
          "height": 453
        },
        "id": "HBGKHwBxsz9O",
        "outputId": "7fcaeea6-7cf0-4d72-ee37-96ade5ae9ba5"
      },
      "outputs": [
        {
          "output_type": "display_data",
          "data": {
            "text/plain": [
              "<Figure size 640x480 with 1 Axes>"
            ],
            "image/png": "[encoded data removed]"
          },
          "metadata": {}
        }
      ],
      "source": [
        "fig, axs = plt.subplots()\n",
        "\n",
        "bins = np.arange(5, 85, step=5)\n",
        "axs.hist(x_gen_jet1_nr_pts, alpha=0.5, density=True, bins=bins, label='gen')\n",
        "axs.hist(trn_jet1_nr_pts, alpha=0.5, density=True, bins=bins, label='real')\n",
        "\n",
        "axs.set_xlabel(\"$p_{T,1}$ (GeV)\")\n",
        "axs.set_ylabel(\"# events\")\n",
        "axs.legend()\n",
        "plt.show()"
      ]
    },
    {
      "cell_type": "markdown",
      "metadata": {
        "id": "kQ7aTeQvsz9Y"
      },
      "source": [
        "Looks great!\n",
        "\n",
        "Now the invariant mass of the whole event:"
      ]
    },
    {
      "cell_type": "code",
      "execution_count": null,
      "metadata": {
        "colab": {
          "base_uri": "https://localhost:8080/",
          "height": 455
        },
        "id": "YF-P7ckBsz9Z",
        "outputId": "844c08b3-bee6-4877-c664-fb0d450ba233"
      },
      "outputs": [
        {
          "output_type": "display_data",
          "data": {
            "text/plain": [
              "<Figure size 640x480 with 1 Axes>"
            ],
            "image/png": "[encoded data removed]"
          },
          "metadata": {}
        }
      ],
      "source": [
        "fig, axs = plt.subplots()\n",
        "\n",
        "bins = np.arange(5, 165, step=10)\n",
        "axs.hist(np.nan_to_num(x_gen_evnt_nr_ims), alpha=0.5, density=True, bins=bins, label='gen')\n",
        "axs.hist(np.nan_to_num(trn_evnt_ims), alpha=0.5, density=True, bins=bins, label='real')\n",
        "\n",
        "axs.set_xlabel(\"$m_{\\mu\\mu}$ (GeV)\")\n",
        "axs.set_ylabel(\"# events\")\n",
        "axs.legend()\n",
        "plt.show()"
      ]
    },
    {
      "cell_type": "markdown",
      "metadata": {
        "id": "kzQHzdWNsz9Z"
      },
      "source": [
        "The match between the two mass distributions looks really good now!"
      ]
    },
    {
      "cell_type": "code",
      "execution_count": null,
      "metadata": {
        "id": "3CwrobzKsz9a"
      },
      "outputs": [],
      "source": []
    }
  ],
  "metadata": {
    "accelerator": "GPU",
    "colab": {
      "provenance": []
    },
    "gpuClass": "standard",
    "kernelspec": {
      "display_name": "Python 3 (ipykernel)",
      "language": "python",
      "name": "python3"
    },
    "language_info": {
      "codemirror_mode": {
        "name": "ipython",
        "version": 3
      },
      "file_extension": ".py",
      "mimetype": "text/x-python",
      "name": "python",
      "nbconvert_exporter": "python",
      "pygments_lexer": "ipython3",
      "version": "3.10.10"
    }
  },
  "nbformat": 4,
  "nbformat_minor": 0
}